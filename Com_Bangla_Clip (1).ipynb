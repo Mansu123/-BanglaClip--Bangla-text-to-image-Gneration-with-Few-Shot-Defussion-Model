{
  "cells": [
    {
      "cell_type": "code",
      "execution_count": 1,
      "metadata": {
        "colab": {
          "base_uri": "https://localhost:8080/"
        },
        "id": "tPb_Ddx0EQJm",
        "outputId": "24530ff5-c83b-46e8-aa32-37efb4cc945f"
      },
      "outputs": [
        {
          "output_type": "stream",
          "name": "stdout",
          "text": [
            "Drive already mounted at /content/drive; to attempt to forcibly remount, call drive.mount(\"/content/drive\", force_remount=True).\n"
          ]
        }
      ],
      "source": [
        "from google.colab import drive\n",
        "drive.mount('/content/drive')"
      ]
    },
    {
      "cell_type": "code",
      "execution_count": 2,
      "metadata": {
        "colab": {
          "base_uri": "https://localhost:8080/"
        },
        "id": "itTgReRiEzwj",
        "outputId": "20a5f92a-d2cf-49c1-d8c8-ecf79729849a"
      },
      "outputs": [
        {
          "output_type": "stream",
          "name": "stdout",
          "text": [
            "Requirement already satisfied: datasets in /usr/local/lib/python3.10/dist-packages (3.2.0)\n",
            "Requirement already satisfied: filelock in /usr/local/lib/python3.10/dist-packages (from datasets) (3.16.1)\n",
            "Requirement already satisfied: numpy>=1.17 in /usr/local/lib/python3.10/dist-packages (from datasets) (1.26.4)\n",
            "Requirement already satisfied: pyarrow>=15.0.0 in /usr/local/lib/python3.10/dist-packages (from datasets) (17.0.0)\n",
            "Requirement already satisfied: dill<0.3.9,>=0.3.0 in /usr/local/lib/python3.10/dist-packages (from datasets) (0.3.8)\n",
            "Requirement already satisfied: pandas in /usr/local/lib/python3.10/dist-packages (from datasets) (2.2.2)\n",
            "Requirement already satisfied: requests>=2.32.2 in /usr/local/lib/python3.10/dist-packages (from datasets) (2.32.3)\n",
            "Requirement already satisfied: tqdm>=4.66.3 in /usr/local/lib/python3.10/dist-packages (from datasets) (4.66.6)\n",
            "Requirement already satisfied: xxhash in /usr/local/lib/python3.10/dist-packages (from datasets) (3.5.0)\n",
            "Requirement already satisfied: multiprocess<0.70.17 in /usr/local/lib/python3.10/dist-packages (from datasets) (0.70.16)\n",
            "Requirement already satisfied: fsspec<=2024.9.0,>=2023.1.0 in /usr/local/lib/python3.10/dist-packages (from fsspec[http]<=2024.9.0,>=2023.1.0->datasets) (2024.9.0)\n",
            "Requirement already satisfied: aiohttp in /usr/local/lib/python3.10/dist-packages (from datasets) (3.11.10)\n",
            "Requirement already satisfied: huggingface-hub>=0.23.0 in /usr/local/lib/python3.10/dist-packages (from datasets) (0.26.5)\n",
            "Requirement already satisfied: packaging in /usr/local/lib/python3.10/dist-packages (from datasets) (24.2)\n",
            "Requirement already satisfied: pyyaml>=5.1 in /usr/local/lib/python3.10/dist-packages (from datasets) (6.0.2)\n",
            "Requirement already satisfied: aiohappyeyeballs>=2.3.0 in /usr/local/lib/python3.10/dist-packages (from aiohttp->datasets) (2.4.4)\n",
            "Requirement already satisfied: aiosignal>=1.1.2 in /usr/local/lib/python3.10/dist-packages (from aiohttp->datasets) (1.3.1)\n",
            "Requirement already satisfied: async-timeout<6.0,>=4.0 in /usr/local/lib/python3.10/dist-packages (from aiohttp->datasets) (4.0.3)\n",
            "Requirement already satisfied: attrs>=17.3.0 in /usr/local/lib/python3.10/dist-packages (from aiohttp->datasets) (24.2.0)\n",
            "Requirement already satisfied: frozenlist>=1.1.1 in /usr/local/lib/python3.10/dist-packages (from aiohttp->datasets) (1.5.0)\n",
            "Requirement already satisfied: multidict<7.0,>=4.5 in /usr/local/lib/python3.10/dist-packages (from aiohttp->datasets) (6.1.0)\n",
            "Requirement already satisfied: propcache>=0.2.0 in /usr/local/lib/python3.10/dist-packages (from aiohttp->datasets) (0.2.1)\n",
            "Requirement already satisfied: yarl<2.0,>=1.17.0 in /usr/local/lib/python3.10/dist-packages (from aiohttp->datasets) (1.18.3)\n",
            "Requirement already satisfied: typing-extensions>=3.7.4.3 in /usr/local/lib/python3.10/dist-packages (from huggingface-hub>=0.23.0->datasets) (4.12.2)\n",
            "Requirement already satisfied: charset-normalizer<4,>=2 in /usr/local/lib/python3.10/dist-packages (from requests>=2.32.2->datasets) (3.4.0)\n",
            "Requirement already satisfied: idna<4,>=2.5 in /usr/local/lib/python3.10/dist-packages (from requests>=2.32.2->datasets) (3.10)\n",
            "Requirement already satisfied: urllib3<3,>=1.21.1 in /usr/local/lib/python3.10/dist-packages (from requests>=2.32.2->datasets) (2.2.3)\n",
            "Requirement already satisfied: certifi>=2017.4.17 in /usr/local/lib/python3.10/dist-packages (from requests>=2.32.2->datasets) (2024.8.30)\n",
            "Requirement already satisfied: python-dateutil>=2.8.2 in /usr/local/lib/python3.10/dist-packages (from pandas->datasets) (2.8.2)\n",
            "Requirement already satisfied: pytz>=2020.1 in /usr/local/lib/python3.10/dist-packages (from pandas->datasets) (2024.2)\n",
            "Requirement already satisfied: tzdata>=2022.7 in /usr/local/lib/python3.10/dist-packages (from pandas->datasets) (2024.2)\n",
            "Requirement already satisfied: six>=1.5 in /usr/local/lib/python3.10/dist-packages (from python-dateutil>=2.8.2->pandas->datasets) (1.17.0)\n"
          ]
        }
      ],
      "source": [
        "!pip install datasets"
      ]
    },
    {
      "cell_type": "code",
      "execution_count": 3,
      "metadata": {
        "id": "wk5vMzMPE-Nc"
      },
      "outputs": [],
      "source": [
        "\n",
        "# Step 2: Import necessary libraries\n",
        "import os\n",
        "import zipfile\n",
        "from datasets import load_dataset\n",
        "import pandas as pd\n",
        "from PIL import Image\n",
        "import torch\n",
        "from torch.utils.data import Dataset, DataLoader, random_split\n",
        "import torchvision.transforms as transforms\n",
        "from transformers import AutoTokenizer, AutoModel, ViTModel, ViTFeatureExtractor\n",
        "import torch.nn as nn\n",
        "import torch.nn.functional as F\n",
        "import torch.optim as optim\n",
        "from tqdm import tqdm\n",
        "import itertools"
      ]
    },
    {
      "cell_type": "code",
      "execution_count": 4,
      "metadata": {
        "id": "A72exv4sZSH1"
      },
      "outputs": [],
      "source": [
        "\n",
        "# Step 2: Import necessary libraries\n",
        "import os\n",
        "import zipfile\n",
        "from datasets import load_dataset\n",
        "import pandas as pd\n",
        "from PIL import Image\n",
        "import torch\n",
        "from torch.utils.data import Dataset, DataLoader, random_split\n",
        "import torchvision.transforms as transforms\n",
        "from transformers import AutoTokenizer, AutoModel, ViTModel, ViTFeatureExtractor\n",
        "import torch.nn as nn\n",
        "import torch.nn.functional as F\n",
        "import torch.optim as optim\n",
        "from tqdm import tqdm\n",
        "import itertools"
      ]
    },
    {
      "cell_type": "code",
      "execution_count": 5,
      "metadata": {
        "id": "bVfF86-OZZIM"
      },
      "outputs": [],
      "source": [
        "# Step 1: Import necessary libraries\n",
        "import os\n",
        "import zipfile\n",
        "import requests\n",
        "from datasets import load_dataset\n",
        "import pandas as pd\n",
        "from PIL import Image\n",
        "import torch\n",
        "from torch.utils.data import Dataset, DataLoader, random_split\n",
        "import torchvision.transforms as transforms\n",
        "from transformers import AutoTokenizer, AutoModel, ViTModel, ViTFeatureExtractor\n",
        "import torch.nn as nn\n",
        "import torch.nn.functional as F\n",
        "import torch.optim as optim\n",
        "from tqdm import tqdm\n",
        "import itertools"
      ]
    },
    {
      "cell_type": "code",
      "execution_count": 6,
      "metadata": {
        "id": "-3kfwK52ZVs1"
      },
      "outputs": [],
      "source": [
        "# Step 2: Download the dataset manually\n",
        "dataset_url = \"https://huggingface.co/datasets/Mansuba/Banglafinal/resolve/main/bangla_combined_image_caption_dataset.zip\"\n",
        "zip_path = \"/content/Banglafinal.zip\"\n",
        "output_dir = \"/content/Banglafinal_unzipped\"\n",
        "os.makedirs(output_dir, exist_ok=True)"
      ]
    },
    {
      "cell_type": "code",
      "execution_count": 7,
      "metadata": {
        "id": "lIsCMwdZZXHu"
      },
      "outputs": [],
      "source": [
        "# Download the dataset using requests\n",
        "if not os.path.exists(zip_path):\n",
        "    print(\"Downloading dataset...\")\n",
        "    response = requests.get(dataset_url, stream=True)\n",
        "    with open(zip_path, \"wb\") as f:\n",
        "        for chunk in response.iter_content(chunk_size=1024):\n",
        "            f.write(chunk)\n",
        "    print(f\"Dataset downloaded to {zip_path}\")\n"
      ]
    },
    {
      "cell_type": "code",
      "execution_count": null,
      "metadata": {
        "colab": {
          "base_uri": "https://localhost:8080/"
        },
        "id": "dV9BqSkjZXEu",
        "outputId": "c670af15-549e-4fdc-c1cd-ecbc2679af92"
      },
      "outputs": [
        {
          "output_type": "stream",
          "name": "stdout",
          "text": [
            "Unzipping dataset...\n"
          ]
        }
      ],
      "source": [
        "# Step 3: Unzip the dataset\n",
        "print(\"Unzipping dataset...\")\n",
        "with zipfile.ZipFile(zip_path, \"r\") as zip_ref:\n",
        "    zip_ref.extractall(output_dir)\n",
        "print(f\"Dataset extracted to {output_dir}\")"
      ]
    },
    {
      "cell_type": "code",
      "execution_count": null,
      "metadata": {
        "id": "0RVmqmU-ZXB9"
      },
      "outputs": [],
      "source": [
        "# Step 2: Define dataset paths\n",
        "output_dir = \"/content/Banglafinal_unzipped\"\n",
        "\n",
        "# Step 3: Load dataset using Hugging Face's `load_from_disk`\n",
        "print(\"Loading dataset from Arrow format...\")\n",
        "dataset = load_from_disk(output_dir)\n",
        "print(f\"Dataset loaded with {len(dataset)} records.\")"
      ]
    },
    {
      "cell_type": "code",
      "execution_count": null,
      "metadata": {
        "id": "AoHyM301ZW_U"
      },
      "outputs": [],
      "source": [
        "print(dataset.column_names)"
      ]
    },
    {
      "cell_type": "code",
      "execution_count": null,
      "metadata": {
        "id": "7a7gRvrfZW8k"
      },
      "outputs": [],
      "source": [
        "print(dataset[0])"
      ]
    },
    {
      "cell_type": "code",
      "source": [
        "import PIL\n",
        "from PIL import Image\n",
        "from io import BytesIO\n",
        "import torchvision.transforms as transforms\n",
        "from torch.utils.data import Dataset\n",
        "\n",
        "class ImageTextDataset(Dataset):\n",
        "    def __init__(self, dataset, image_size=224):\n",
        "        self.dataset = dataset\n",
        "        self.transform = transforms.Compose([\n",
        "            transforms.Resize((image_size, image_size)),\n",
        "            transforms.Lambda(lambda img: img.convert(\"RGB\")),  # Convert images to RGB format\n",
        "            transforms.ToTensor(),\n",
        "            transforms.Normalize((0.5, 0.5, 0.5), (0.5, 0.5, 0.5))\n",
        "        ])\n",
        "\n",
        "    def __len__(self):\n",
        "        return len(self.dataset)\n",
        "\n",
        "    def __getitem__(self, index):\n",
        "        image_data = self.dataset[index][\"image\"]\n",
        "        caption = self.dataset[index][\"caption\"]\n",
        "\n",
        "        # Handle different types of image data\n",
        "        if isinstance(image_data, PIL.Image.Image):  # If already a PIL image\n",
        "            image = image_data\n",
        "        elif isinstance(image_data, bytes):  # If the image is stored as bytes\n",
        "            image = Image.open(BytesIO(image_data))\n",
        "        elif isinstance(image_data, str):  # If the image is a file path\n",
        "            image = Image.open(image_data)\n",
        "        else:\n",
        "            raise ValueError(f\"Unsupported image format at index {index}: {type(image_data)}\")\n",
        "\n",
        "        # Apply transformations\n",
        "        image = self.transform(image)\n",
        "        return image, caption\n"
      ],
      "metadata": {
        "id": "UMzF3PN3Xdxv"
      },
      "execution_count": null,
      "outputs": []
    },
    {
      "cell_type": "code",
      "source": [
        "# Step 5: Create PyTorch dataset\n",
        "image_size = 224  # Set desired image size\n",
        "full_dataset = ImageTextDataset(dataset, image_size)\n",
        "print(f\"Dataset size: {len(full_dataset)}\")\n",
        "\n",
        "# Step 6: Split dataset into training and validation sets\n",
        "train_size = int(0.8 * len(full_dataset))\n",
        "val_size = len(full_dataset) - train_size\n",
        "train_dataset, val_dataset = random_split(full_dataset, [train_size, val_size])\n",
        "\n",
        "batch_size = 32\n",
        "num_workers = os.cpu_count()\n",
        "\n",
        "# Step 7: Create DataLoaders\n",
        "train_dataloader = DataLoader(train_dataset, batch_size=batch_size, shuffle=True, num_workers=num_workers, pin_memory=True)\n",
        "val_dataloader = DataLoader(val_dataset, batch_size=batch_size, shuffle=False, num_workers=num_workers, pin_memory=True)\n",
        "\n",
        "print(f\"Training set size: {len(train_dataset)}, Validation set size: {len(val_dataset)}\")\n",
        "\n",
        "# Step 8: Example training loop (placeholder)\n",
        "device = torch.device(\"cuda\" if torch.cuda.is_available() else \"cpu\")\n",
        "print(f\"Using device: {device}\")\n",
        ""
      ],
      "metadata": {
        "id": "HwR1OehnX0aR"
      },
      "execution_count": null,
      "outputs": []
    },
    {
      "cell_type": "code",
      "execution_count": null,
      "metadata": {
        "id": "bbORwCCREQyx"
      },
      "outputs": [],
      "source": [
        "\n",
        "\n",
        "vit_model_name = 'google/vit-base-patch16-224'\n",
        "vit_feature_extractor = ViTFeatureExtractor.from_pretrained(vit_model_name)\n",
        "vit_model = ViTModel.from_pretrained(vit_model_name).to(device)\n",
        "image_embedding_size = vit_model.config.hidden_size\n",
        "\n",
        "bangla_bert_name = 'sagorsarker/bangla-bert-base'\n",
        "text_tokenizer = AutoTokenizer.from_pretrained(bangla_bert_name)\n",
        "text_model = AutoModel.from_pretrained(bangla_bert_name).to(device)\n",
        "text_embedding_size = text_model.config.hidden_size"
      ]
    },
    {
      "cell_type": "code",
      "execution_count": null,
      "metadata": {
        "id": "1WsFwa3iEQ15"
      },
      "outputs": [],
      "source": [
        "# Step 9: Define Projection class\n",
        "class Projection(nn.Module):\n",
        "    def __init__(self, input_size, output_size):\n",
        "        super(Projection, self).__init__()\n",
        "        self.fc1 = nn.Linear(input_size, output_size)\n",
        "        self.dropout = nn.Dropout(0.3)\n",
        "        self.fc2 = nn.Linear(output_size, output_size)\n",
        "\n",
        "    def forward(self, x):\n",
        "        x = self.dropout(torch.relu(self.fc1(x)))\n",
        "        return self.fc2(x)\n",
        "\n",
        "shared_embedding_size = 512\n",
        "image_projector = Projection(image_embedding_size, shared_embedding_size).to(device)\n",
        "text_projector = Projection(text_embedding_size, shared_embedding_size).to(device)\n"
      ]
    },
    {
      "cell_type": "code",
      "execution_count": null,
      "metadata": {
        "id": "T6lz4qlbEQ5h"
      },
      "outputs": [],
      "source": [
        "# Step 10: Define contrastive loss\n",
        "def contrastive_loss(image_proj, text_proj, margin=0.2):\n",
        "    similarity = F.cosine_similarity(image_proj, text_proj)\n",
        "    loss = 1 - similarity.mean() + margin\n",
        "    return loss"
      ]
    },
    {
      "cell_type": "code",
      "execution_count": null,
      "metadata": {
        "id": "4u5V9dyhEQ8n"
      },
      "outputs": [],
      "source": [
        "# Step 11: Set up optimizer and learning rate scheduler\n",
        "params = [\n",
        "    {\"params\": vit_model.parameters(), \"lr\": 1e-4},\n",
        "    {\"params\": text_model.parameters(), \"lr\": 1e-5},\n",
        "    {\"params\": itertools.chain(image_projector.parameters(), text_projector.parameters()), \"lr\": 1e-3, \"weight_decay\": 1e-3}\n",
        "]\n",
        "optimizer = optim.AdamW(params, weight_decay=1e-4)\n",
        "lr_scheduler = torch.optim.lr_scheduler.ReduceLROnPlateau(optimizer, mode=\"min\", patience=2, factor=0.8)\n"
      ]
    },
    {
      "cell_type": "code",
      "execution_count": null,
      "metadata": {
        "id": "mNjA8nleEQ_h"
      },
      "outputs": [],
      "source": [
        "# Step 12: Training and validation loop\n",
        "import matplotlib.pyplot as plt\n",
        "\n",
        "num_epochs = 10\n",
        "best_val_loss = float(\"inf\")\n",
        "early_stopping_counter = 0\n",
        "early_stopping_patience = 3\n",
        "\n",
        "train_losses = []\n",
        "val_losses = []\n",
        "train_accuracies = []\n",
        "val_accuracies = []\n",
        "recall_at_1_scores = []\n",
        "\n",
        "for epoch in range(num_epochs):\n",
        "    vit_model.train()\n",
        "    text_model.train()\n",
        "    image_projector.train()\n",
        "    text_projector.train()\n",
        "    total_train_loss = 0.0\n",
        "    correct_train_predictions = 0\n",
        "    total_train_predictions = 0\n",
        "\n",
        "    for images, captions in tqdm(train_dataloader, desc=f\"Training Epoch {epoch+1}/{num_epochs}\", colour=\"green\"):\n",
        "        optimizer.zero_grad()\n",
        "        images = images.to(device)\n",
        "        inputs = text_tokenizer(captions, return_tensors='pt', padding=\"max_length\", max_length=32, truncation=True).to(device)\n",
        "        text_embeddings = text_projector(text_model(**inputs).last_hidden_state[:, 0, :])\n",
        "        image_embeddings = image_projector(vit_model(pixel_values=images)[\"last_hidden_state\"][:, 0, :])\n",
        "        loss = contrastive_loss(image_embeddings, text_embeddings)\n",
        "        loss.backward()\n",
        "        optimizer.step()\n",
        "        total_train_loss += loss.item()\n",
        "\n",
        "        # Calculate accuracy (threshold-based) for training\n",
        "        cosine_sim = F.cosine_similarity(image_embeddings, text_embeddings)\n",
        "        correct_train_predictions += (cosine_sim > 0.9).sum().item()\n",
        "        total_train_predictions += images.size(0)\n",
        "\n",
        "    avg_train_loss = total_train_loss / len(train_dataloader)\n",
        "    train_losses.append(avg_train_loss)\n",
        "    train_accuracy = correct_train_predictions / total_train_predictions\n",
        "    train_accuracies.append(train_accuracy)\n",
        "\n",
        "    vit_model.eval()\n",
        "    text_model.eval()\n",
        "    image_projector.eval()\n",
        "    text_projector.eval()\n",
        "    total_val_loss = 0.0\n",
        "    correct_val_predictions = 0\n",
        "    total_val_predictions = 0\n",
        "    recall_at_1 = 0\n",
        "\n",
        "    for images, captions in tqdm(val_dataloader, desc=f\"Validation Epoch {epoch+1}/{num_epochs}\", colour=\"blue\"):\n",
        "        with torch.no_grad():\n",
        "            images = images.to(device)\n",
        "            inputs = text_tokenizer(captions, return_tensors='pt', padding=\"max_length\", max_length=32, truncation=True).to(device)\n",
        "            text_embeddings = text_projector(text_model(**inputs).last_hidden_state[:, 0, :])\n",
        "            image_embeddings = image_projector(vit_model(pixel_values=images)[\"last_hidden_state\"][:, 0, :])\n",
        "            val_loss = contrastive_loss(image_embeddings, text_embeddings)\n",
        "            total_val_loss += val_loss.item()\n",
        "\n",
        "            # Calculate Recall@1\n",
        "            cosine_sim = F.cosine_similarity(image_embeddings.unsqueeze(1), text_embeddings.unsqueeze(0), dim=-1)\n",
        "            recall_at_1 += (cosine_sim.argmax(dim=1) == torch.arange(cosine_sim.size(0), device=device)).sum().item()\n",
        "\n",
        "            # Calculate accuracy (threshold-based) for validation\n",
        "            correct_val_predictions += (cosine_sim > 0.9).sum().item()\n",
        "            total_val_predictions += images.size(0)\n",
        "\n",
        "    avg_val_loss = total_val_loss / len(val_dataloader)\n",
        "    val_losses.append(avg_val_loss)\n",
        "    recall_at_1_score = recall_at_1 / len(val_dataloader.dataset)\n",
        "    recall_at_1_scores.append(recall_at_1_score)\n",
        "    val_accuracy = correct_val_predictions / total_val_predictions\n",
        "    val_accuracies.append(val_accuracy)\n",
        "\n",
        "    print(f\"Epoch [{epoch+1}/{num_epochs}] - Train Loss: {avg_train_loss:.4f}, Train Accuracy: {train_accuracy:.4f}, Val Loss: {avg_val_loss:.4f}, Val Accuracy: {val_accuracy:.4f}, Recall@1: {recall_at_1_score:.4f}\")\n",
        "\n",
        "    lr_scheduler.step(avg_val_loss)\n",
        "    if avg_val_loss < best_val_loss:\n",
        "        best_val_loss = avg_val_loss\n",
        "        early_stopping_counter = 0\n",
        "    else:\n",
        "        early_stopping_counter += 1\n",
        "        if early_stopping_counter >= early_stopping_patience:\n",
        "            print(\"Early stopping triggered.\")\n",
        "            break\n",
        "\n",
        "# Plot Training and Validation Losses\n",
        "plt.figure(figsize=(10, 5))\n",
        "plt.plot(range(1, len(train_losses) + 1), train_losses, label=\"Train Loss\", color=\"blue\", marker=\"o\")\n",
        "plt.plot(range(1, len(val_losses) + 1), val_losses, label=\"Val Loss\", color=\"green\", marker=\"x\")\n",
        "plt.xlabel(\"Epoch\")\n",
        "plt.ylabel(\"Loss\")\n",
        "plt.title(\"Training and Validation Losses\")\n",
        "plt.legend()\n",
        "plt.grid()\n",
        "plt.show()\n",
        "\n",
        "# Plot Training and Validation Accuracies\n",
        "plt.figure(figsize=(10, 5))\n",
        "plt.plot(range(1, len(train_accuracies) + 1), train_accuracies, label=\"Train Accuracy\", color=\"red\", marker=\"o\")\n",
        "plt.plot(range(1, len(val_accuracies) + 1), val_accuracies, label=\"Val Accuracy\", color=\"purple\", marker=\"x\")\n",
        "plt.xlabel(\"Epoch\")\n",
        "plt.ylabel(\"Accuracy\")\n",
        "plt.title(\"Training and Validation Accuracies\")\n",
        "plt.legend()\n",
        "plt.grid()\n",
        "plt.show()\n",
        "\n",
        "# Plot Recall@1 Scores\n",
        "plt.figure(figsize=(10, 5))\n",
        "plt.plot(range(1, len(recall_at_1_scores) + 1), recall_at_1_scores, label=\"Recall@1\", color=\"orange\", marker=\"s\")\n",
        "plt.xlabel(\"Epoch\")\n",
        "plt.ylabel(\"Recall@1\")\n",
        "plt.title(\"Validation Recall@1 Scores\")\n",
        "plt.legend()\n",
        "plt.grid()\n",
        "plt.show()\n"
      ]
    },
    {
      "cell_type": "code",
      "execution_count": null,
      "metadata": {
        "id": "yAF-uLvJfhc0"
      },
      "outputs": [],
      "source": [
        "# Specify the directory to save the models\n",
        "save_directory = \"/content/drive/MyDrive/Bangla Image dataset with caption\"\n",
        "\n",
        "# Save the models and other components\n",
        "torch.save(vit_model.state_dict(), f\"{save_directory}/vit_model.pth\")\n",
        "torch.save(text_model.state_dict(), f\"{save_directory}/text_model.pth\")\n",
        "torch.save(image_projector.state_dict(), f\"{save_directory}/image_projector.pth\")\n",
        "torch.save(text_projector.state_dict(), f\"{save_directory}/text_projector.pth\")\n",
        "torch.save(optimizer.state_dict(), f\"{save_directory}/optimizer.pth\")\n",
        "torch.save(lr_scheduler.state_dict(), f\"{save_directory}/lr_scheduler.pth\")\n"
      ]
    },
    {
      "cell_type": "markdown",
      "source": [
        "#Interface"
      ],
      "metadata": {
        "id": "JTLL8LmlY33x"
      }
    },
    {
      "cell_type": "code",
      "source": [
        "import torch\n",
        "import numpy as np\n",
        "import matplotlib.pyplot as plt\n",
        "import torch.nn.functional as F\n",
        "from tqdm import tqdm\n",
        "\n",
        "# Ensure models are in evaluation mode\n",
        "vit_model.eval()\n",
        "image_projector.eval()\n",
        "text_model.eval()\n",
        "text_projector.eval()\n",
        "\n",
        "# Function to create image embeddings with rescaling for ViT model compatibility\n",
        "def create_image_embeddings(images, device):\n",
        "    \"\"\"\n",
        "    Generates embeddings for the given image tensor using ViT and image projector.\n",
        "\n",
        "    Args:\n",
        "        images (torch.Tensor): Batch of images, normalized to [-1, 1].\n",
        "        device (torch.device): Device to perform computation.\n",
        "\n",
        "    Returns:\n",
        "        torch.Tensor: Projected image embeddings.\n",
        "    \"\"\"\n",
        "    with torch.no_grad():\n",
        "        # Rescale pixel values to [0, 1]\n",
        "        images = (images + 1) / 2\n",
        "        features = vit_feature_extractor(images=images, return_tensors=\"pt\").to(device)\n",
        "        image_embeddings = vit_model(**features).last_hidden_state[:, 0, :]\n",
        "        image_projection = image_projector(image_embeddings)\n",
        "    return image_projection\n",
        "\n",
        "# Precompute and store image embeddings for all training images\n",
        "def precompute_image_embeddings(dataset, model, projector, device):\n",
        "    \"\"\"\n",
        "    Precomputes and stores embeddings for all images in the dataset.\n",
        "\n",
        "    Args:\n",
        "        dataset (Dataset): PyTorch Dataset containing images.\n",
        "        model (torch.nn.Module): Vision transformer model for feature extraction.\n",
        "        projector (torch.nn.Module): Projection head for image embeddings.\n",
        "        device (torch.device): Device to perform computation.\n",
        "\n",
        "    Returns:\n",
        "        list[torch.Tensor]: List of image embeddings.\n",
        "    \"\"\"\n",
        "    embeddings_list = []\n",
        "    for index in tqdm(range(len(dataset)), desc=\"Processing Training Images\"):\n",
        "        image_tensor = dataset[index][0].unsqueeze(0).to(device)  # Add batch dimension\n",
        "        embedding = create_image_embeddings(image_tensor, device)\n",
        "        embeddings_list.append(embedding[0].cpu())  # Move to CPU for storage\n",
        "    return embeddings_list\n",
        "\n",
        "# Image retrieval function\n",
        "def image_retrieval_function(input_query, image_embeddings_list, dataset, n=5, display=False):\n",
        "    \"\"\"\n",
        "    Retrieves the top N most similar images to the input text query.\n",
        "\n",
        "    Args:\n",
        "        input_query (str): Text query for image retrieval.\n",
        "        image_embeddings_list (list[torch.Tensor]): List of precomputed image embeddings.\n",
        "        dataset (Dataset): PyTorch Dataset containing images.\n",
        "        n (int): Number of top images to retrieve.\n",
        "        display (bool): Whether to display retrieved images.\n",
        "\n",
        "    Returns:\n",
        "        list[int]: Indices of the top N most similar images.\n",
        "    \"\"\"\n",
        "    with torch.no_grad():\n",
        "        # Generate text embeddings\n",
        "        inputs = text_tokenizer(input_query, return_tensors='pt', padding=\"max_length\", max_length=32, truncation=True).to(device)\n",
        "        text_embeddings = text_model(**inputs).last_hidden_state[:, 0, :]\n",
        "        text_projection = text_projector(text_embeddings)\n",
        "\n",
        "    # Compute cosine similarity between text query and all image embeddings\n",
        "    similarity_scores = [\n",
        "        F.cosine_similarity(text_projection, embedding.unsqueeze(0).to(device)).item()\n",
        "        for embedding in image_embeddings_list\n",
        "    ]\n",
        "\n",
        "    # Get indices of the top N most similar images\n",
        "    top_indices = np.argsort(similarity_scores)[-n:][::-1]\n",
        "\n",
        "    if display:\n",
        "        # Display the top N images with their similarity scores\n",
        "        for index in top_indices:\n",
        "            image_tensor = dataset[index][0]  # Fetch image tensor\n",
        "            plt.imshow(torch.moveaxis(image_tensor, 0, 2))\n",
        "            plt.title(f\"Similarity Score: {similarity_scores[index]:.4f}\")\n",
        "            plt.axis('off')\n",
        "            plt.show()\n",
        "    return top_indices\n",
        "\n",
        "# Precompute embeddings for training dataset\n",
        "image_embeddings_list_train = precompute_image_embeddings(train_dataset, vit_model, image_projector, device)\n",
        "\n",
        "# Example usage\n",
        "query = \"A description of the image\"\n",
        "retrieved_indices = image_retrieval_function(query, image_embeddings_list_train, train_dataset, n=5, display=True)\n"
      ],
      "metadata": {
        "id": "wXRSmOYTY2zR"
      },
      "execution_count": null,
      "outputs": []
    },
    {
      "cell_type": "code",
      "execution_count": null,
      "metadata": {
        "colab": {
          "background_save": true
        },
        "id": "78lN7ZI_fhZs"
      },
      "outputs": [],
      "source": []
    },
    {
      "cell_type": "code",
      "execution_count": null,
      "metadata": {
        "colab": {
          "background_save": true
        },
        "id": "wyNPQSITfhW0"
      },
      "outputs": [],
      "source": []
    },
    {
      "cell_type": "code",
      "execution_count": null,
      "metadata": {
        "colab": {
          "background_save": true
        },
        "id": "QV6qeaKHfhT7"
      },
      "outputs": [],
      "source": []
    },
    {
      "cell_type": "code",
      "execution_count": null,
      "metadata": {
        "colab": {
          "background_save": true
        },
        "id": "NpeaPm2efhRD"
      },
      "outputs": [],
      "source": []
    },
    {
      "cell_type": "code",
      "execution_count": null,
      "metadata": {
        "colab": {
          "background_save": true
        },
        "id": "R7AheEPHfhOM"
      },
      "outputs": [],
      "source": []
    }
  ],
  "metadata": {
    "accelerator": "GPU",
    "colab": {
      "gpuType": "T4",
      "provenance": []
    },
    "kernelspec": {
      "display_name": "Python 3",
      "name": "python3"
    },
    "language_info": {
      "name": "python"
    }
  },
  "nbformat": 4,
  "nbformat_minor": 0
}