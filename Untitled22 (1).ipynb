{
  "cells": [
    {
      "cell_type": "code",
      "execution_count": 3,
      "metadata": {
        "colab": {
          "base_uri": "https://localhost:8080/"
        },
        "id": "tPb_Ddx0EQJm",
        "outputId": "027b86d2-621e-42cd-c01c-8cc9b6360802"
      },
      "outputs": [
        {
          "output_type": "stream",
          "name": "stdout",
          "text": [
            "Mounted at /content/drive\n"
          ]
        }
      ],
      "source": [
        "from google.colab import drive\n",
        "drive.mount('/content/drive')"
      ]
    },
    {
      "cell_type": "code",
      "execution_count": 4,
      "metadata": {
        "colab": {
          "base_uri": "https://localhost:8080/"
        },
        "id": "itTgReRiEzwj",
        "outputId": "a5c4a4dd-541a-49b5-e258-f6d40149d7ca"
      },
      "outputs": [
        {
          "output_type": "stream",
          "name": "stdout",
          "text": [
            "Collecting datasets\n",
            "  Downloading datasets-3.2.0-py3-none-any.whl.metadata (20 kB)\n",
            "Requirement already satisfied: filelock in /usr/local/lib/python3.10/dist-packages (from datasets) (3.16.1)\n",
            "Requirement already satisfied: numpy>=1.17 in /usr/local/lib/python3.10/dist-packages (from datasets) (1.26.4)\n",
            "Requirement already satisfied: pyarrow>=15.0.0 in /usr/local/lib/python3.10/dist-packages (from datasets) (17.0.0)\n",
            "Collecting dill<0.3.9,>=0.3.0 (from datasets)\n",
            "  Downloading dill-0.3.8-py3-none-any.whl.metadata (10 kB)\n",
            "Requirement already satisfied: pandas in /usr/local/lib/python3.10/dist-packages (from datasets) (2.2.2)\n",
            "Requirement already satisfied: requests>=2.32.2 in /usr/local/lib/python3.10/dist-packages (from datasets) (2.32.3)\n",
            "Requirement already satisfied: tqdm>=4.66.3 in /usr/local/lib/python3.10/dist-packages (from datasets) (4.66.6)\n",
            "Collecting xxhash (from datasets)\n",
            "  Downloading xxhash-3.5.0-cp310-cp310-manylinux_2_17_x86_64.manylinux2014_x86_64.whl.metadata (12 kB)\n",
            "Collecting multiprocess<0.70.17 (from datasets)\n",
            "  Downloading multiprocess-0.70.16-py310-none-any.whl.metadata (7.2 kB)\n",
            "Collecting fsspec<=2024.9.0,>=2023.1.0 (from fsspec[http]<=2024.9.0,>=2023.1.0->datasets)\n",
            "  Downloading fsspec-2024.9.0-py3-none-any.whl.metadata (11 kB)\n",
            "Requirement already satisfied: aiohttp in /usr/local/lib/python3.10/dist-packages (from datasets) (3.11.10)\n",
            "Requirement already satisfied: huggingface-hub>=0.23.0 in /usr/local/lib/python3.10/dist-packages (from datasets) (0.26.5)\n",
            "Requirement already satisfied: packaging in /usr/local/lib/python3.10/dist-packages (from datasets) (24.2)\n",
            "Requirement already satisfied: pyyaml>=5.1 in /usr/local/lib/python3.10/dist-packages (from datasets) (6.0.2)\n",
            "Requirement already satisfied: aiohappyeyeballs>=2.3.0 in /usr/local/lib/python3.10/dist-packages (from aiohttp->datasets) (2.4.4)\n",
            "Requirement already satisfied: aiosignal>=1.1.2 in /usr/local/lib/python3.10/dist-packages (from aiohttp->datasets) (1.3.1)\n",
            "Requirement already satisfied: async-timeout<6.0,>=4.0 in /usr/local/lib/python3.10/dist-packages (from aiohttp->datasets) (4.0.3)\n",
            "Requirement already satisfied: attrs>=17.3.0 in /usr/local/lib/python3.10/dist-packages (from aiohttp->datasets) (24.2.0)\n",
            "Requirement already satisfied: frozenlist>=1.1.1 in /usr/local/lib/python3.10/dist-packages (from aiohttp->datasets) (1.5.0)\n",
            "Requirement already satisfied: multidict<7.0,>=4.5 in /usr/local/lib/python3.10/dist-packages (from aiohttp->datasets) (6.1.0)\n",
            "Requirement already satisfied: propcache>=0.2.0 in /usr/local/lib/python3.10/dist-packages (from aiohttp->datasets) (0.2.1)\n",
            "Requirement already satisfied: yarl<2.0,>=1.17.0 in /usr/local/lib/python3.10/dist-packages (from aiohttp->datasets) (1.18.3)\n",
            "Requirement already satisfied: typing-extensions>=3.7.4.3 in /usr/local/lib/python3.10/dist-packages (from huggingface-hub>=0.23.0->datasets) (4.12.2)\n",
            "Requirement already satisfied: charset-normalizer<4,>=2 in /usr/local/lib/python3.10/dist-packages (from requests>=2.32.2->datasets) (3.4.0)\n",
            "Requirement already satisfied: idna<4,>=2.5 in /usr/local/lib/python3.10/dist-packages (from requests>=2.32.2->datasets) (3.10)\n",
            "Requirement already satisfied: urllib3<3,>=1.21.1 in /usr/local/lib/python3.10/dist-packages (from requests>=2.32.2->datasets) (2.2.3)\n",
            "Requirement already satisfied: certifi>=2017.4.17 in /usr/local/lib/python3.10/dist-packages (from requests>=2.32.2->datasets) (2024.8.30)\n",
            "Requirement already satisfied: python-dateutil>=2.8.2 in /usr/local/lib/python3.10/dist-packages (from pandas->datasets) (2.8.2)\n",
            "Requirement already satisfied: pytz>=2020.1 in /usr/local/lib/python3.10/dist-packages (from pandas->datasets) (2024.2)\n",
            "Requirement already satisfied: tzdata>=2022.7 in /usr/local/lib/python3.10/dist-packages (from pandas->datasets) (2024.2)\n",
            "Requirement already satisfied: six>=1.5 in /usr/local/lib/python3.10/dist-packages (from python-dateutil>=2.8.2->pandas->datasets) (1.17.0)\n",
            "Downloading datasets-3.2.0-py3-none-any.whl (480 kB)\n",
            "\u001b[2K   \u001b[90m━━━━━━━━━━━━━━━━━━━━━━━━━━━━━━━━━━━━━━━━\u001b[0m \u001b[32m480.6/480.6 kB\u001b[0m \u001b[31m30.6 MB/s\u001b[0m eta \u001b[36m0:00:00\u001b[0m\n",
            "\u001b[?25hDownloading dill-0.3.8-py3-none-any.whl (116 kB)\n",
            "\u001b[2K   \u001b[90m━━━━━━━━━━━━━━━━━━━━━━━━━━━━━━━━━━━━━━━━\u001b[0m \u001b[32m116.3/116.3 kB\u001b[0m \u001b[31m11.6 MB/s\u001b[0m eta \u001b[36m0:00:00\u001b[0m\n",
            "\u001b[?25hDownloading fsspec-2024.9.0-py3-none-any.whl (179 kB)\n",
            "\u001b[2K   \u001b[90m━━━━━━━━━━━━━━━━━━━━━━━━━━━━━━━━━━━━━━━━\u001b[0m \u001b[32m179.3/179.3 kB\u001b[0m \u001b[31m17.9 MB/s\u001b[0m eta \u001b[36m0:00:00\u001b[0m\n",
            "\u001b[?25hDownloading multiprocess-0.70.16-py310-none-any.whl (134 kB)\n",
            "\u001b[2K   \u001b[90m━━━━━━━━━━━━━━━━━━━━━━━━━━━━━━━━━━━━━━━━\u001b[0m \u001b[32m134.8/134.8 kB\u001b[0m \u001b[31m13.4 MB/s\u001b[0m eta \u001b[36m0:00:00\u001b[0m\n",
            "\u001b[?25hDownloading xxhash-3.5.0-cp310-cp310-manylinux_2_17_x86_64.manylinux2014_x86_64.whl (194 kB)\n",
            "\u001b[2K   \u001b[90m━━━━━━━━━━━━━━━━━━━━━━━━━━━━━━━━━━━━━━━━\u001b[0m \u001b[32m194.1/194.1 kB\u001b[0m \u001b[31m18.6 MB/s\u001b[0m eta \u001b[36m0:00:00\u001b[0m\n",
            "\u001b[?25hInstalling collected packages: xxhash, fsspec, dill, multiprocess, datasets\n",
            "  Attempting uninstall: fsspec\n",
            "    Found existing installation: fsspec 2024.10.0\n",
            "    Uninstalling fsspec-2024.10.0:\n",
            "      Successfully uninstalled fsspec-2024.10.0\n",
            "\u001b[31mERROR: pip's dependency resolver does not currently take into account all the packages that are installed. This behaviour is the source of the following dependency conflicts.\n",
            "gcsfs 2024.10.0 requires fsspec==2024.10.0, but you have fsspec 2024.9.0 which is incompatible.\u001b[0m\u001b[31m\n",
            "\u001b[0mSuccessfully installed datasets-3.2.0 dill-0.3.8 fsspec-2024.9.0 multiprocess-0.70.16 xxhash-3.5.0\n"
          ]
        }
      ],
      "source": [
        "!pip install datasets"
      ]
    },
    {
      "cell_type": "code",
      "execution_count": 5,
      "metadata": {
        "id": "wk5vMzMPE-Nc"
      },
      "outputs": [],
      "source": [
        "\n",
        "# Step 2: Import necessary libraries\n",
        "import os\n",
        "import zipfile\n",
        "from datasets import load_dataset\n",
        "import pandas as pd\n",
        "from PIL import Image\n",
        "import torch\n",
        "from torch.utils.data import Dataset, DataLoader, random_split\n",
        "import torchvision.transforms as transforms\n",
        "from transformers import AutoTokenizer, AutoModel, ViTModel, ViTFeatureExtractor\n",
        "import torch.nn as nn\n",
        "import torch.nn.functional as F\n",
        "import torch.optim as optim\n",
        "from tqdm import tqdm\n",
        "import itertools"
      ]
    },
    {
      "cell_type": "code",
      "source": [
        "\n",
        "# Step 2: Import necessary libraries\n",
        "import os\n",
        "import zipfile\n",
        "from datasets import load_dataset\n",
        "import pandas as pd\n",
        "from PIL import Image\n",
        "import torch\n",
        "from torch.utils.data import Dataset, DataLoader, random_split\n",
        "import torchvision.transforms as transforms\n",
        "from transformers import AutoTokenizer, AutoModel, ViTModel, ViTFeatureExtractor\n",
        "import torch.nn as nn\n",
        "import torch.nn.functional as F\n",
        "import torch.optim as optim\n",
        "from tqdm import tqdm\n",
        "import itertools"
      ],
      "metadata": {
        "id": "A72exv4sZSH1"
      },
      "execution_count": 6,
      "outputs": []
    },
    {
      "cell_type": "code",
      "source": [
        "# Step 1: Import necessary libraries\n",
        "import os\n",
        "import zipfile\n",
        "import requests\n",
        "from datasets import load_dataset\n",
        "import pandas as pd\n",
        "from PIL import Image\n",
        "import torch\n",
        "from torch.utils.data import Dataset, DataLoader, random_split\n",
        "import torchvision.transforms as transforms\n",
        "from transformers import AutoTokenizer, AutoModel, ViTModel, ViTFeatureExtractor\n",
        "import torch.nn as nn\n",
        "import torch.nn.functional as F\n",
        "import torch.optim as optim\n",
        "from tqdm import tqdm\n",
        "import itertools"
      ],
      "metadata": {
        "id": "bVfF86-OZZIM"
      },
      "execution_count": 7,
      "outputs": []
    },
    {
      "cell_type": "code",
      "source": [
        "# Step 1: Import necessary libraries\n",
        "import os\n",
        "from datasets import DatasetDict, load_from_disk\n",
        "import pandas as pd\n",
        "from PIL import Image\n",
        "import torch\n",
        "from torch.utils.data import Dataset, DataLoader, random_split\n",
        "import torchvision.transforms as transforms\n",
        "from transformers import AutoTokenizer, AutoModel, ViTModel, ViTFeatureExtractor\n",
        "import torch.nn as nn\n",
        "import torch.nn.functional as F\n",
        "import torch.optim as optim\n",
        "from tqdm import tqdm\n",
        "import itertools"
      ],
      "metadata": {
        "id": "aRl4fhswZk_0"
      },
      "execution_count": 8,
      "outputs": []
    },
    {
      "cell_type": "code",
      "source": [
        "# Step 2: Download the dataset manually\n",
        "dataset_url = \"https://huggingface.co/datasets/Mansuba/Banglafinal/resolve/main/bangla_combined_image_caption_dataset.zip\"\n",
        "zip_path = \"/content/Banglafinal.zip\"\n",
        "output_dir = \"/content/Banglafinal_unzipped\"\n",
        "os.makedirs(output_dir, exist_ok=True)"
      ],
      "metadata": {
        "id": "-3kfwK52ZVs1"
      },
      "execution_count": 9,
      "outputs": []
    },
    {
      "cell_type": "code",
      "source": [
        "# Download the dataset using requests\n",
        "if not os.path.exists(zip_path):\n",
        "    print(\"Downloading dataset...\")\n",
        "    response = requests.get(dataset_url, stream=True)\n",
        "    with open(zip_path, \"wb\") as f:\n",
        "        for chunk in response.iter_content(chunk_size=1024):\n",
        "            f.write(chunk)\n",
        "    print(f\"Dataset downloaded to {zip_path}\")\n"
      ],
      "metadata": {
        "id": "lIsCMwdZZXHu",
        "colab": {
          "base_uri": "https://localhost:8080/"
        },
        "outputId": "45b1a77d-0770-42fb-b755-d4e61af62030"
      },
      "execution_count": null,
      "outputs": [
        {
          "output_type": "stream",
          "name": "stdout",
          "text": [
            "Downloading dataset...\n"
          ]
        }
      ]
    },
    {
      "cell_type": "code",
      "source": [
        "# Step 3: Unzip the dataset\n",
        "print(\"Unzipping dataset...\")\n",
        "with zipfile.ZipFile(zip_path, \"r\") as zip_ref:\n",
        "    zip_ref.extractall(output_dir)\n",
        "print(f\"Dataset extracted to {output_dir}\")"
      ],
      "metadata": {
        "id": "dV9BqSkjZXEu"
      },
      "execution_count": null,
      "outputs": []
    },
    {
      "cell_type": "code",
      "source": [
        "# Step 2: Define dataset paths\n",
        "output_dir = \"/content/Banglafinal_unzipped\"\n",
        "\n",
        "# Step 3: Load dataset using Hugging Face's `load_from_disk`\n",
        "print(\"Loading dataset from Arrow format...\")\n",
        "dataset = load_from_disk(output_dir)\n",
        "print(f\"Dataset loaded with {len(dataset)} records.\")"
      ],
      "metadata": {
        "id": "0RVmqmU-ZXB9"
      },
      "execution_count": null,
      "outputs": []
    },
    {
      "cell_type": "code",
      "source": [
        "print(dataset.column_names)"
      ],
      "metadata": {
        "id": "AoHyM301ZW_U"
      },
      "execution_count": null,
      "outputs": []
    },
    {
      "cell_type": "code",
      "source": [
        "print(dataset[0])"
      ],
      "metadata": {
        "id": "7a7gRvrfZW8k"
      },
      "execution_count": null,
      "outputs": []
    },
    {
      "cell_type": "code",
      "source": [
        "# Step 4: Define Dataset class\n",
        "class ImageTextDataset(Dataset):\n",
        "    def __init__(self, dataset, image_size=224):\n",
        "        self.dataset = dataset  # Hugging Face dataset remains in Arrow format\n",
        "        self.transform = transforms.Compose([\n",
        "            transforms.Resize((image_size, image_size)),\n",
        "            transforms.ToTensor(),\n",
        "            transforms.Normalize((0.5, 0.5, 0.5), (0.5, 0.5, 0.5))\n",
        "        ])\n",
        "\n",
        "    def __len__(self):\n",
        "        return len(self.dataset)\n",
        "\n",
        "    def __getitem__(self, index):\n",
        "        # Load a single image and caption lazily\n",
        "        record = self.dataset[index]\n",
        "        image = self.transform(record[\"image\"])  # Apply transformations to PIL Image\n",
        "        caption = record[\"caption\"]\n",
        "        return image, caption\n",
        "\n",
        "# Step 5: Create PyTorch dataset\n",
        "image_size = 224  # Set desired image size\n",
        "full_dataset = ImageTextDataset(dataset, image_size)\n",
        "print(f\"Dataset size: {len(full_dataset)}\")\n",
        "\n",
        "# Step 6: Split dataset into training and validation sets\n",
        "train_size = int(0.8 * len(full_dataset))\n",
        "val_size = len(full_dataset) - train_size\n",
        "train_dataset, val_dataset = random_split(full_dataset, [train_size, val_size])\n",
        "\n",
        "batch_size = 32\n",
        "num_workers = os.cpu_count()\n",
        "\n",
        "# Step 7: Create DataLoaders\n",
        "train_dataloader = DataLoader(train_dataset, batch_size=batch_size, shuffle=True, num_workers=num_workers, pin_memory=True)\n",
        "val_dataloader = DataLoader(val_dataset, batch_size=batch_size, shuffle=False, num_workers=num_workers, pin_memory=True)\n",
        "\n",
        "print(f\"Training set size: {len(train_dataset)}, Validation set size: {len(val_dataset)}\")\n",
        "\n",
        "# Step 8: Example training loop (placeholder)\n",
        "device = torch.device(\"cuda\" if torch.cuda.is_available() else \"cpu\")\n",
        "print(f\"Using device: {device}\")"
      ],
      "metadata": {
        "id": "4hW46VltdsEc"
      },
      "execution_count": null,
      "outputs": []
    },
    {
      "cell_type": "code",
      "execution_count": null,
      "metadata": {
        "id": "bbORwCCREQyx"
      },
      "outputs": [],
      "source": [
        "\n",
        "\n",
        "vit_model_name = 'google/vit-base-patch16-224'\n",
        "vit_feature_extractor = ViTFeatureExtractor.from_pretrained(vit_model_name)\n",
        "vit_model = ViTModel.from_pretrained(vit_model_name).to(device)\n",
        "image_embedding_size = vit_model.config.hidden_size\n",
        "\n",
        "bangla_bert_name = 'sagorsarker/bangla-bert-base'\n",
        "text_tokenizer = AutoTokenizer.from_pretrained(bangla_bert_name)\n",
        "text_model = AutoModel.from_pretrained(bangla_bert_name).to(device)\n",
        "text_embedding_size = text_model.config.hidden_size"
      ]
    },
    {
      "cell_type": "code",
      "execution_count": null,
      "metadata": {
        "id": "1WsFwa3iEQ15"
      },
      "outputs": [],
      "source": [
        "# Step 9: Define Projection class\n",
        "class Projection(nn.Module):\n",
        "    def __init__(self, input_size, output_size):\n",
        "        super(Projection, self).__init__()\n",
        "        self.fc1 = nn.Linear(input_size, output_size)\n",
        "        self.dropout = nn.Dropout(0.3)\n",
        "        self.fc2 = nn.Linear(output_size, output_size)\n",
        "\n",
        "    def forward(self, x):\n",
        "        x = self.dropout(torch.relu(self.fc1(x)))\n",
        "        return self.fc2(x)\n",
        "\n",
        "shared_embedding_size = 512\n",
        "image_projector = Projection(image_embedding_size, shared_embedding_size).to(device)\n",
        "text_projector = Projection(text_embedding_size, shared_embedding_size).to(device)\n"
      ]
    },
    {
      "cell_type": "code",
      "execution_count": null,
      "metadata": {
        "id": "T6lz4qlbEQ5h"
      },
      "outputs": [],
      "source": [
        "# Step 10: Define contrastive loss\n",
        "def contrastive_loss(image_proj, text_proj, margin=0.2):\n",
        "    similarity = F.cosine_similarity(image_proj, text_proj)\n",
        "    loss = 1 - similarity.mean() + margin\n",
        "    return loss"
      ]
    },
    {
      "cell_type": "code",
      "execution_count": null,
      "metadata": {
        "id": "4u5V9dyhEQ8n"
      },
      "outputs": [],
      "source": [
        "# Step 11: Set up optimizer and learning rate scheduler\n",
        "params = [\n",
        "    {\"params\": vit_model.parameters(), \"lr\": 1e-4},\n",
        "    {\"params\": text_model.parameters(), \"lr\": 1e-5},\n",
        "    {\"params\": itertools.chain(image_projector.parameters(), text_projector.parameters()), \"lr\": 1e-3, \"weight_decay\": 1e-3}\n",
        "]\n",
        "optimizer = optim.AdamW(params, weight_decay=1e-4)\n",
        "lr_scheduler = torch.optim.lr_scheduler.ReduceLROnPlateau(optimizer, mode=\"min\", patience=2, factor=0.8)\n"
      ]
    },
    {
      "cell_type": "code",
      "execution_count": null,
      "metadata": {
        "id": "mNjA8nleEQ_h"
      },
      "outputs": [],
      "source": [
        "# Step 12: Training and validation loop\n",
        "num_epochs = 1\n",
        "best_val_loss = float(\"inf\")\n",
        "early_stopping_counter = 0\n",
        "early_stopping_patience = 3\n",
        "\n",
        "for epoch in range(num_epochs):\n",
        "    vit_model.train()\n",
        "    text_model.train()\n",
        "    image_projector.train()\n",
        "    text_projector.train()\n",
        "    total_train_loss = 0.0\n",
        "\n",
        "    train_progress = tqdm(train_dataloader, desc=f\"Epoch [{epoch+1}/{num_epochs}] - Training\", colour=\"green\")\n",
        "    for images, captions in train_progress:\n",
        "        optimizer.zero_grad()\n",
        "        images = images.to(device)\n",
        "        inputs = text_tokenizer(captions, return_tensors='pt', padding=\"max_length\", max_length=32, truncation=True).to(device)\n",
        "        text_embeddings = text_projector(text_model(**inputs).last_hidden_state[:, 0, :])\n",
        "        image_embeddings = image_projector(vit_model(pixel_values=images)[\"last_hidden_state\"][:, 0, :])\n",
        "        loss = contrastive_loss(image_embeddings, text_embeddings)\n",
        "        loss.backward()\n",
        "        optimizer.step()\n",
        "        total_train_loss += loss.item()\n",
        "        train_progress.set_postfix({\"Train Loss\": total_train_loss / len(train_dataloader)})\n",
        "\n",
        "    vit_model.eval()\n",
        "    text_model.eval()\n",
        "    image_projector.eval()\n",
        "    text_projector.eval()\n",
        "    total_val_loss = 0.0\n",
        "    correct_predictions = 0\n",
        "    total_predictions = 0\n",
        "\n",
        "    val_progress = tqdm(val_dataloader, desc=f\"Epoch [{epoch+1}/{num_epochs}] - Validation\", colour=\"green\")\n",
        "    with torch.no_grad():\n",
        "        for images, captions in val_progress:\n",
        "            images = images.to(device)\n",
        "            inputs = text_tokenizer(captions, return_tensors='pt', padding=\"max_length\", max_length=32, truncation=True).to(device)\n",
        "            text_embeddings = text_projector(text_model(**inputs).last_hidden_state[:, 0, :])\n",
        "            image_embeddings = image_projector(vit_model(pixel_values=images)[\"last_hidden_state\"][:, 0, :])\n",
        "            val_loss = contrastive_loss(image_embeddings, text_embeddings)\n",
        "            total_val_loss += val_loss.item()\n",
        "            avg_val_loss = total_val_loss / len(val_dataloader)\n",
        "            cosine_sim = F.cosine_similarity(text_embeddings, image_embeddings)\n",
        "            correct_predictions += (cosine_sim > 0.9).sum().item()\n",
        "            total_predictions += images.size(0)\n",
        "            val_progress.set_postfix({\"Val Loss\": avg_val_loss, \"Accuracy\": correct_predictions / max(1, total_predictions)})\n",
        "\n",
        "    print(f\"Epoch [{epoch+1}/{num_epochs}] - Train Loss: {total_train_loss / len(train_dataloader):.4f}, Val Loss: {avg_val_loss:.4f}, Accuracy: {correct_predictions / max(1, total_predictions):.4f}\")\n",
        "    lr_scheduler.step(avg_val_loss)\n",
        "    if avg_val_loss < best_val_loss:\n",
        "        best_val_loss = avg_val_loss\n",
        "        early_stopping_counter = 0\n",
        "    else:\n",
        "        early_stopping_counter += 1\n",
        "        if early_stopping_counter >= early_stopping_patience:\n",
        "            print(\"Early stopping triggered.\")\n",
        "            break"
      ]
    },
    {
      "cell_type": "code",
      "source": [
        "# Specify the directory to save the models\n",
        "save_directory = \"/content/drive/MyDrive/Bangla Image dataset with caption\"\n",
        "\n",
        "# Save the models and other components\n",
        "torch.save(vit_model.state_dict(), f\"{save_directory}/vit_model.pth\")\n",
        "torch.save(text_model.state_dict(), f\"{save_directory}/text_model.pth\")\n",
        "torch.save(image_projector.state_dict(), f\"{save_directory}/image_projector.pth\")\n",
        "torch.save(text_projector.state_dict(), f\"{save_directory}/text_projector.pth\")\n",
        "torch.save(optimizer.state_dict(), f\"{save_directory}/optimizer.pth\")\n",
        "torch.save(lr_scheduler.state_dict(), f\"{save_directory}/lr_scheduler.pth\")\n"
      ],
      "metadata": {
        "id": "yAF-uLvJfhc0"
      },
      "execution_count": null,
      "outputs": []
    },
    {
      "cell_type": "code",
      "source": [],
      "metadata": {
        "id": "78lN7ZI_fhZs"
      },
      "execution_count": null,
      "outputs": []
    },
    {
      "cell_type": "code",
      "source": [],
      "metadata": {
        "id": "wyNPQSITfhW0"
      },
      "execution_count": null,
      "outputs": []
    },
    {
      "cell_type": "code",
      "source": [],
      "metadata": {
        "id": "QV6qeaKHfhT7"
      },
      "execution_count": null,
      "outputs": []
    },
    {
      "cell_type": "code",
      "source": [],
      "metadata": {
        "id": "NpeaPm2efhRD"
      },
      "execution_count": null,
      "outputs": []
    },
    {
      "cell_type": "code",
      "source": [],
      "metadata": {
        "id": "R7AheEPHfhOM"
      },
      "execution_count": null,
      "outputs": []
    }
  ],
  "metadata": {
    "accelerator": "GPU",
    "colab": {
      "gpuType": "T4",
      "provenance": [],
      "machine_shape": "hm"
    },
    "kernelspec": {
      "display_name": "Python 3",
      "name": "python3"
    },
    "language_info": {
      "name": "python"
    }
  },
  "nbformat": 4,
  "nbformat_minor": 0
}