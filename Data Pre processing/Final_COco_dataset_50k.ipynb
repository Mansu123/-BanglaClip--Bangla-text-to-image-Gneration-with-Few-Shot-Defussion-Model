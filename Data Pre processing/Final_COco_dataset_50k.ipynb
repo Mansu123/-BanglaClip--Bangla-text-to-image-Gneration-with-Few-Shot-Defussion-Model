{
  "cells": [
    {
      "cell_type": "markdown",
      "metadata": {
        "id": "ruO4iNotbfER"
      },
      "source": [
        "#caption with image id csv download"
      ]
    },
    {
      "cell_type": "code",
      "execution_count": null,
      "metadata": {
        "colab": {
          "base_uri": "https://localhost:8080/"
        },
        "id": "LlyEIaim9YtR",
        "outputId": "4e33b5ab-8a01-478b-9a89-f8da57c1ac8b"
      },
      "outputs": [
        {
          "output_type": "stream",
          "name": "stdout",
          "text": [
            "Requirement already satisfied: googletrans==4.0.0-rc1 in /usr/local/lib/python3.10/dist-packages (4.0.0rc1)\n",
            "Requirement already satisfied: httpx==0.13.3 in /usr/local/lib/python3.10/dist-packages (from googletrans==4.0.0-rc1) (0.13.3)\n",
            "Requirement already satisfied: certifi in /usr/local/lib/python3.10/dist-packages (from httpx==0.13.3->googletrans==4.0.0-rc1) (2024.8.30)\n",
            "Requirement already satisfied: hstspreload in /usr/local/lib/python3.10/dist-packages (from httpx==0.13.3->googletrans==4.0.0-rc1) (2024.9.1)\n",
            "Requirement already satisfied: sniffio in /usr/local/lib/python3.10/dist-packages (from httpx==0.13.3->googletrans==4.0.0-rc1) (1.3.1)\n",
            "Requirement already satisfied: chardet==3.* in /usr/local/lib/python3.10/dist-packages (from httpx==0.13.3->googletrans==4.0.0-rc1) (3.0.4)\n",
            "Requirement already satisfied: idna==2.* in /usr/local/lib/python3.10/dist-packages (from httpx==0.13.3->googletrans==4.0.0-rc1) (2.10)\n",
            "Requirement already satisfied: rfc3986<2,>=1.3 in /usr/local/lib/python3.10/dist-packages (from httpx==0.13.3->googletrans==4.0.0-rc1) (1.5.0)\n",
            "Requirement already satisfied: httpcore==0.9.* in /usr/local/lib/python3.10/dist-packages (from httpx==0.13.3->googletrans==4.0.0-rc1) (0.9.1)\n",
            "Requirement already satisfied: h11<0.10,>=0.8 in /usr/local/lib/python3.10/dist-packages (from httpcore==0.9.*->httpx==0.13.3->googletrans==4.0.0-rc1) (0.9.0)\n",
            "Requirement already satisfied: h2==3.* in /usr/local/lib/python3.10/dist-packages (from httpcore==0.9.*->httpx==0.13.3->googletrans==4.0.0-rc1) (3.2.0)\n",
            "Requirement already satisfied: hyperframe<6,>=5.2.0 in /usr/local/lib/python3.10/dist-packages (from h2==3.*->httpcore==0.9.*->httpx==0.13.3->googletrans==4.0.0-rc1) (5.2.0)\n",
            "Requirement already satisfied: hpack<4,>=3.0 in /usr/local/lib/python3.10/dist-packages (from h2==3.*->httpcore==0.9.*->httpx==0.13.3->googletrans==4.0.0-rc1) (3.0.0)\n"
          ]
        }
      ],
      "source": [
        "!pip install googletrans==4.0.0-rc1\n"
      ]
    },
    {
      "cell_type": "code",
      "execution_count": null,
      "metadata": {
        "id": "-6wP96YYY1Ti"
      },
      "outputs": [],
      "source": [
        "import os\n",
        "import json\n",
        "import requests\n",
        "import pandas as pd\n",
        "import zipfile\n",
        "from tqdm import tqdm\n",
        "from googletrans import Translator\n",
        "from google.colab import files\n",
        "from concurrent.futures import ThreadPoolExecutor, as_completed\n"
      ]
    },
    {
      "cell_type": "code",
      "execution_count": null,
      "metadata": {
        "id": "MgZgdkenY1RE"
      },
      "outputs": [],
      "source": [
        "# Step 1: Download the MS COCO 2017 annotations zip file\n",
        "# Use wget to download the annotations\n",
        "!wget -q http://images.cocodataset.org/annotations/annotations_trainval2017.zip\n"
      ]
    },
    {
      "cell_type": "code",
      "execution_count": null,
      "metadata": {
        "colab": {
          "base_uri": "https://localhost:8080/"
        },
        "id": "gOWpASx6Y1OL",
        "outputId": "4be87bf4-21e1-4bb8-e32f-b206a687266b"
      },
      "outputs": [
        {
          "output_type": "stream",
          "name": "stdout",
          "text": [
            "Archive:  annotations_trainval2017.zip\n",
            "  inflating: annotations/annotations/instances_train2017.json  \n",
            "  inflating: annotations/annotations/instances_val2017.json  \n",
            "  inflating: annotations/annotations/captions_train2017.json  \n",
            "  inflating: annotations/annotations/captions_val2017.json  \n",
            "  inflating: annotations/annotations/person_keypoints_train2017.json  \n",
            "  inflating: annotations/annotations/person_keypoints_val2017.json  \n"
          ]
        }
      ],
      "source": [
        "# Step 2: Unzip the downloaded file (use -o to overwrite without prompts)\n",
        "!unzip -o annotations_trainval2017.zip -d annotations"
      ]
    },
    {
      "cell_type": "code",
      "execution_count": null,
      "metadata": {
        "colab": {
          "base_uri": "https://localhost:8080/",
          "height": 34
        },
        "id": "6dBg5UI7wDBD",
        "outputId": "33df3b7b-1f26-4fbc-d6bd-dcd5058e014a"
      },
      "outputs": [
        {
          "output_type": "display_data",
          "data": {
            "text/plain": [
              "<IPython.core.display.Javascript object>"
            ],
            "application/javascript": [
              "\n",
              "    async function download(id, filename, size) {\n",
              "      if (!google.colab.kernel.accessAllowed) {\n",
              "        return;\n",
              "      }\n",
              "      const div = document.createElement('div');\n",
              "      const label = document.createElement('label');\n",
              "      label.textContent = `Downloading \"${filename}\": `;\n",
              "      div.appendChild(label);\n",
              "      const progress = document.createElement('progress');\n",
              "      progress.max = size;\n",
              "      div.appendChild(progress);\n",
              "      document.body.appendChild(div);\n",
              "\n",
              "      const buffers = [];\n",
              "      let downloaded = 0;\n",
              "\n",
              "      const channel = await google.colab.kernel.comms.open(id);\n",
              "      // Send a message to notify the kernel that we're ready.\n",
              "      channel.send({})\n",
              "\n",
              "      for await (const message of channel.messages) {\n",
              "        // Send a message to notify the kernel that we're ready.\n",
              "        channel.send({})\n",
              "        if (message.buffers) {\n",
              "          for (const buffer of message.buffers) {\n",
              "            buffers.push(buffer);\n",
              "            downloaded += buffer.byteLength;\n",
              "            progress.value = downloaded;\n",
              "          }\n",
              "        }\n",
              "      }\n",
              "      const blob = new Blob(buffers, {type: 'application/binary'});\n",
              "      const a = document.createElement('a');\n",
              "      a.href = window.URL.createObjectURL(blob);\n",
              "      a.download = filename;\n",
              "      div.appendChild(a);\n",
              "      a.click();\n",
              "      div.remove();\n",
              "    }\n",
              "  "
            ]
          },
          "metadata": {}
        },
        {
          "output_type": "display_data",
          "data": {
            "text/plain": [
              "<IPython.core.display.Javascript object>"
            ],
            "application/javascript": [
              "download(\"download_51029776-f1d0-429f-8d78-84e87776f516\", \"mscoco_captions_filtered.csv\", 2680022)"
            ]
          },
          "metadata": {}
        }
      ],
      "source": [
        "import json\n",
        "import pandas as pd\n",
        "\n",
        "# Step 1: Load the COCO captions file\n",
        "annotations_file = 'annotations/annotations/captions_train2017.json'\n",
        "with open(annotations_file, 'r') as f:\n",
        "    coco_data = json.load(f)\n",
        "\n",
        "# Step 2: Extract image info and captions correctly\n",
        "images_info = {image['id']: image['file_name'] for image in coco_data['images']}\n",
        "\n",
        "# Step 3: Create a dictionary to keep only one caption per image (removing duplicates)\n",
        "captions_info = {}\n",
        "for caption in coco_data['annotations']:\n",
        "    image_id = caption['image_id']\n",
        "    if image_id not in captions_info:  # Only keep the first caption encountered\n",
        "        captions_info[image_id] = caption['caption']\n",
        "\n",
        "# Step 4: Create a DataFrame with correct mapping\n",
        "df_captions = pd.DataFrame(list(captions_info.items()), columns=['image_id', 'caption'])\n",
        "df_captions['image_file_name'] = df_captions['image_id'].map(images_info)\n",
        "df_captions['image_url'] = df_captions['image_file_name'].apply(lambda x: f\"http://images.cocodataset.org/train2017/{x}\")\n",
        "\n",
        "# Limit to the first 10 images (you can increase this as needed)\n",
        "df_captions = df_captions.head(20000)\n",
        "\n",
        "# Step 5: Save the processed captions to a CSV\n",
        "captions_csv = \"mscoco_captions_filtered.csv\"\n",
        "df_captions.to_csv(captions_csv, index=False)\n",
        "\n",
        "# Step 6: Optional - Download the CSV (this part depends on your environment)\n",
        "files.download(captions_csv)  # Uncomment this line if you're in a Colab-like environment"
      ]
    },
    {
      "cell_type": "markdown",
      "metadata": {
        "id": "pFTk80Y0ba6Z"
      },
      "source": [
        "#image download"
      ]
    },
    {
      "cell_type": "code",
      "source": [
        "import os\n",
        "import requests\n",
        "import pandas as pd\n",
        "from concurrent.futures import ThreadPoolExecutor, as_completed\n",
        "from tqdm import tqdm\n",
        "import zipfile\n",
        "\n",
        "# Step 5: Function to download exact images from the URLs\n",
        "os.makedirs(\"mscoco_images\", exist_ok=True)\n",
        "\n",
        "def download_image(url, file_path):\n",
        "    try:\n",
        "        response = requests.get(url, stream=True, timeout=5)\n",
        "        if response.status_code == 200:\n",
        "            with open(file_path, 'wb') as f:\n",
        "                for chunk in response.iter_content(1024):\n",
        "                    f.write(chunk)\n",
        "        else:\n",
        "            print(f\"Failed to download image from {url}\")\n",
        "    except Exception as e:\n",
        "        print(f\"Error downloading {url}: {e}\")\n",
        "\n",
        "def download_images_from_csv(csv_file, num_images=50, num_workers=10):\n",
        "    df = pd.read_csv(csv_file)\n",
        "\n",
        "    # Limit the number of images to download to the specified `num_images`\n",
        "    df = df.head(num_images)\n",
        "\n",
        "    with ThreadPoolExecutor(max_workers=num_workers) as executor:\n",
        "        futures = []\n",
        "        for index, row in df.iterrows():\n",
        "            image_url = row['image_url']  # Ensure this URL corresponds to the image file name\n",
        "            image_path = f\"mscoco_images/{row['image_file_name']}\"\n",
        "            futures.append(executor.submit(download_image, image_url, image_path))\n",
        "\n",
        "        for future in tqdm(as_completed(futures), total=len(futures)):\n",
        "            pass\n",
        "\n",
        "# Step 6: Download images\n",
        "number_of_images_to_download =20000  # Adjust this number as needed\n",
        "download_images_from_csv(\"mscoco_captions_filtered.csv\", num_images=number_of_images_to_download)\n",
        "\n",
        "# Step 7: Zip the images folder for downloading\n",
        "zip_filename = \"mscoco_images.zip\"\n",
        "with zipfile.ZipFile(zip_filename, 'w') as zipf:\n",
        "    for root, _, filenames in os.walk(\"mscoco_images\"):\n",
        "        for filename in filenames:\n",
        "            zipf.write(os.path.join(root, filename))\n",
        "\n",
        "# Uncomment this if you're in a Jupyter/Colab environment and want to download the zip directly\n",
        "files.download(zip_filename)\n"
      ],
      "metadata": {
        "colab": {
          "base_uri": "https://localhost:8080/",
          "height": 52
        },
        "id": "Ozw98h2XS0Vw",
        "outputId": "e90b19b4-6d00-4250-c7ab-a3512467acc9"
      },
      "execution_count": null,
      "outputs": [
        {
          "output_type": "stream",
          "name": "stderr",
          "text": [
            "100%|██████████| 20000/20000 [35:16<00:00,  9.45it/s]\n"
          ]
        },
        {
          "output_type": "display_data",
          "data": {
            "text/plain": [
              "<IPython.core.display.Javascript object>"
            ],
            "application/javascript": [
              "\n",
              "    async function download(id, filename, size) {\n",
              "      if (!google.colab.kernel.accessAllowed) {\n",
              "        return;\n",
              "      }\n",
              "      const div = document.createElement('div');\n",
              "      const label = document.createElement('label');\n",
              "      label.textContent = `Downloading \"${filename}\": `;\n",
              "      div.appendChild(label);\n",
              "      const progress = document.createElement('progress');\n",
              "      progress.max = size;\n",
              "      div.appendChild(progress);\n",
              "      document.body.appendChild(div);\n",
              "\n",
              "      const buffers = [];\n",
              "      let downloaded = 0;\n",
              "\n",
              "      const channel = await google.colab.kernel.comms.open(id);\n",
              "      // Send a message to notify the kernel that we're ready.\n",
              "      channel.send({})\n",
              "\n",
              "      for await (const message of channel.messages) {\n",
              "        // Send a message to notify the kernel that we're ready.\n",
              "        channel.send({})\n",
              "        if (message.buffers) {\n",
              "          for (const buffer of message.buffers) {\n",
              "            buffers.push(buffer);\n",
              "            downloaded += buffer.byteLength;\n",
              "            progress.value = downloaded;\n",
              "          }\n",
              "        }\n",
              "      }\n",
              "      const blob = new Blob(buffers, {type: 'application/binary'});\n",
              "      const a = document.createElement('a');\n",
              "      a.href = window.URL.createObjectURL(blob);\n",
              "      a.download = filename;\n",
              "      div.appendChild(a);\n",
              "      a.click();\n",
              "      div.remove();\n",
              "    }\n",
              "  "
            ]
          },
          "metadata": {}
        },
        {
          "output_type": "display_data",
          "data": {
            "text/plain": [
              "<IPython.core.display.Javascript object>"
            ],
            "application/javascript": [
              "download(\"download_fdebadd3-1527-4555-a99b-fb6ebd089d38\", \"mscoco_images.zip\", 5012050027)"
            ]
          },
          "metadata": {}
        }
      ]
    },
    {
      "cell_type": "code",
      "source": [],
      "metadata": {
        "id": "PLlkAaZPS0Lh"
      },
      "execution_count": null,
      "outputs": []
    }
  ],
  "metadata": {
    "accelerator": "GPU",
    "colab": {
      "gpuType": "T4",
      "machine_shape": "hm",
      "provenance": []
    },
    "kernelspec": {
      "display_name": "Python 3",
      "name": "python3"
    },
    "language_info": {
      "name": "python"
    }
  },
  "nbformat": 4,
  "nbformat_minor": 0
}